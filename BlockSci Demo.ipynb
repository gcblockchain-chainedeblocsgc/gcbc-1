{
 "cells": [
  {
   "cell_type": "markdown",
   "metadata": {},
   "source": [
    "See the BlockSci documentation at https://github.com/citp/BlockSci for more info"
   ]
  },
  {
   "cell_type": "markdown",
   "metadata": {},
   "source": [
    "# BlockSci Setup"
   ]
  },
  {
   "cell_type": "code",
   "execution_count": 1,
   "metadata": {},
   "outputs": [],
   "source": [
    "import blocksci\n",
    "import matplotlib.pyplot as plt\n",
    "import matplotlib.ticker\n",
    "import collections\n",
    "import pandas as pd\n",
    "import numpy as np\n",
    "\n",
    "%matplotlib notebook"
   ]
  },
  {
   "cell_type": "code",
   "execution_count": 2,
   "metadata": {},
   "outputs": [],
   "source": [
    "# parser_data_directory should be set to the data-directory which the blocksci_parser output\n",
    "chain = blocksci.Blockchain(\"/home/ubuntu/bitcoin\")"
   ]
  },
  {
   "cell_type": "code",
   "execution_count": 3,
   "metadata": {},
   "outputs": [],
   "source": [
    "# Validation: pick a sample transaction to review\n",
    "# compare https://blockchain.info/tx/39dd22ce27bd470b99d8dcf087eb488be9461cda4efc70d7cd9883283f511c89 \n",
    "tx1 = chain.tx_with_hash('39dd22ce27bd470b99d8dcf087eb488be9461cda4efc70d7cd9883283f511c89')"
   ]
  },
  {
   "cell_type": "code",
   "execution_count": 4,
   "metadata": {},
   "outputs": [],
   "source": [
    "# form data frames for the input and output addresses and values involved in the transaction\n",
    "input_list = [t.address_string for t in tx1.inputs.address]\n",
    "input_val = tx1.inputs.value\n",
    "adlist_in = [(a,b) for a, b in zip(input_list,input_val)]\n",
    "\n",
    "df = pd.DataFrame(adlist_in, columns=[\"address\", \"value\"])\n",
    "df_in = df.groupby([\"address\"]).sum()/100000000\n",
    "df_in = df_in.rename_axis('Inputs', axis=1)\n",
    "\n",
    "output_list = [t.address_string for t in tx1.outputs.address]\n",
    "output_val = tx1.outputs.value\n",
    "adlist_out = [(a,b) for a, b in zip(output_list,output_val)]\n",
    "\n",
    "df = pd.DataFrame(adlist_out, columns=[\"address\", \"value\"])\n",
    "df_out = df.groupby([\"address\"]).sum()/100000000\n",
    "df_out = df_out.rename_axis('Outputs', axis=1)"
   ]
  },
  {
   "cell_type": "code",
   "execution_count": 5,
   "metadata": {},
   "outputs": [
    {
     "data": {
      "text/html": [
       "<div>\n",
       "<style scoped>\n",
       "    .dataframe tbody tr th:only-of-type {\n",
       "        vertical-align: middle;\n",
       "    }\n",
       "\n",
       "    .dataframe tbody tr th {\n",
       "        vertical-align: top;\n",
       "    }\n",
       "\n",
       "    .dataframe thead th {\n",
       "        text-align: right;\n",
       "    }\n",
       "</style>\n",
       "<table border=\"1\" class=\"dataframe\">\n",
       "  <thead>\n",
       "    <tr style=\"text-align: right;\">\n",
       "      <th>Inputs</th>\n",
       "      <th>value</th>\n",
       "    </tr>\n",
       "    <tr>\n",
       "      <th>address</th>\n",
       "      <th></th>\n",
       "    </tr>\n",
       "  </thead>\n",
       "  <tbody>\n",
       "    <tr>\n",
       "      <th>34Cq8zSi9R6BZSR6rPSvDP4fvZBvw1CspY</th>\n",
       "      <td>9.881169</td>\n",
       "    </tr>\n",
       "    <tr>\n",
       "      <th>37dSd1XGNyWs5CbNQvPcynhNABncwA4iMM</th>\n",
       "      <td>8.752133</td>\n",
       "    </tr>\n",
       "    <tr>\n",
       "      <th>38E8Mhj7emLst3bUhM1qJnc3prZfTLvf29</th>\n",
       "      <td>9.897222</td>\n",
       "    </tr>\n",
       "    <tr>\n",
       "      <th>39WHwyqAJL7LDNm8253Vaya7uW7fRGZj2e</th>\n",
       "      <td>9.181995</td>\n",
       "    </tr>\n",
       "    <tr>\n",
       "      <th>3EhLZarJUNSfV6TWMZY1Nh5mi3FMsdHa5U</th>\n",
       "      <td>320.371575</td>\n",
       "    </tr>\n",
       "    <tr>\n",
       "      <th>3NZwE5jgXybZjWF6NZ7eVmiZS9ZNCe1PA9</th>\n",
       "      <td>8.624757</td>\n",
       "    </tr>\n",
       "  </tbody>\n",
       "</table>\n",
       "</div>"
      ],
      "text/plain": [
       "Inputs                                   value\n",
       "address                                       \n",
       "34Cq8zSi9R6BZSR6rPSvDP4fvZBvw1CspY    9.881169\n",
       "37dSd1XGNyWs5CbNQvPcynhNABncwA4iMM    8.752133\n",
       "38E8Mhj7emLst3bUhM1qJnc3prZfTLvf29    9.897222\n",
       "39WHwyqAJL7LDNm8253Vaya7uW7fRGZj2e    9.181995\n",
       "3EhLZarJUNSfV6TWMZY1Nh5mi3FMsdHa5U  320.371575\n",
       "3NZwE5jgXybZjWF6NZ7eVmiZS9ZNCe1PA9    8.624757"
      ]
     },
     "metadata": {},
     "output_type": "display_data"
    },
    {
     "data": {
      "text/html": [
       "<div>\n",
       "<style scoped>\n",
       "    .dataframe tbody tr th:only-of-type {\n",
       "        vertical-align: middle;\n",
       "    }\n",
       "\n",
       "    .dataframe tbody tr th {\n",
       "        vertical-align: top;\n",
       "    }\n",
       "\n",
       "    .dataframe thead th {\n",
       "        text-align: right;\n",
       "    }\n",
       "</style>\n",
       "<table border=\"1\" class=\"dataframe\">\n",
       "  <thead>\n",
       "    <tr style=\"text-align: right;\">\n",
       "      <th>Outputs</th>\n",
       "      <th>value</th>\n",
       "    </tr>\n",
       "    <tr>\n",
       "      <th>address</th>\n",
       "      <th></th>\n",
       "    </tr>\n",
       "  </thead>\n",
       "  <tbody>\n",
       "    <tr>\n",
       "      <th>37rub7cQSufSBHzpCkxDcQLXTBYcLr3pss</th>\n",
       "      <td>1.688812</td>\n",
       "    </tr>\n",
       "    <tr>\n",
       "      <th>3EKc1EHHRVJrwBGFgvxd7ZJrKxjTHZZFhV</th>\n",
       "      <td>365.000000</td>\n",
       "    </tr>\n",
       "  </tbody>\n",
       "</table>\n",
       "</div>"
      ],
      "text/plain": [
       "Outputs                                  value\n",
       "address                                       \n",
       "37rub7cQSufSBHzpCkxDcQLXTBYcLr3pss    1.688812\n",
       "3EKc1EHHRVJrwBGFgvxd7ZJrKxjTHZZFhV  365.000000"
      ]
     },
     "metadata": {},
     "output_type": "display_data"
    }
   ],
   "source": [
    "#take a look\n",
    "display(df_in)\n",
    "display(df_out)"
   ]
  },
  {
   "cell_type": "markdown",
   "metadata": {},
   "source": [
    "# Obligatory visualization"
   ]
  },
  {
   "cell_type": "code",
   "execution_count": 6,
   "metadata": {},
   "outputs": [
    {
     "name": "stdout",
     "output_type": "stream",
     "text": [
      "CPU times: user 11.7 s, sys: 564 ms, total: 12.3 s\n",
      "Wall time: 22.8 s\n"
     ]
    }
   ],
   "source": [
    "%time net_coins_per_block = chain.map_blocks(lambda block: block.net_address_type_value(), start=0, end=510000)\n",
    "#%time net_coins_per_block = chain.map_blocks(lambda block: block.net_address_type_value())"
   ]
  },
  {
   "cell_type": "code",
   "execution_count": 7,
   "metadata": {},
   "outputs": [
    {
     "data": {
      "text/plain": [
       "(0, 13313558.289755534)"
      ]
     },
     "execution_count": 7,
     "metadata": {},
     "output_type": "execute_result"
    },
    {
     "data": {
      "image/png": "[encoded data removed]",
      "text/plain": [
       "<Figure size 432x288 with 1 Axes>"
      ]
     },
     "metadata": {},
     "output_type": "display_data"
    }
   ],
   "source": [
    "df = pd.DataFrame(net_coins_per_block).fillna(0).cumsum()/1e8\n",
    "df = chain.heights_to_dates(df)\n",
    "df = df.rename(columns={t:str(t) for t in df.columns})\n",
    "ax = df.resample(\"W\").mean().plot()\n",
    "ax.set_ylim(ymin=0)"
   ]
  },
  {
   "cell_type": "markdown",
   "metadata": {},
   "source": [
    "# Feature Analysis\n",
    "\n",
    "We can pull out different features of transactions or addresses that may flag a certain kind of activity\n",
    "Taken together, features can be used to find transaction patterns\n",
    "This section shows a couple simple examples\n",
    "\n",
    "__Number of transaction inputs and outputs__\n",
    "\n",
    "This is an example looking at transactions that involve a certain number of addresses. For example, if one address is sending money to many addresses. In the example below, there were over 5000 transactions where more than 100 BTC was sent from a single address to 20+ addresses"
   ]
  },
  {
   "cell_type": "code",
   "execution_count": 13,
   "metadata": {},
   "outputs": [
    {
     "name": "stdout",
     "output_type": "stream",
     "text": [
      "\n",
      "\n",
      "\n",
      "CPU times: user 16.1 s, sys: 192 ms, total: 16.2 s\n",
      "Wall time: 16.8 s\n"
     ]
    }
   ],
   "source": [
    "# example - one address sent money to a  lot of addresses\n",
    "%time example_tx = chain.cpp.filter_tx(\"tx.outputCount() > 20 && tx.inputCount()==1\", 0, 510000)"
   ]
  },
  {
   "cell_type": "code",
   "execution_count": 16,
   "metadata": {},
   "outputs": [
    {
     "data": {
      "text/plain": [
       "1314983"
      ]
     },
     "execution_count": 16,
     "metadata": {},
     "output_type": "execute_result"
    }
   ],
   "source": [
    "len(example_tx)"
   ]
  },
  {
   "cell_type": "code",
   "execution_count": 32,
   "metadata": {},
   "outputs": [
    {
     "name": "stdout",
     "output_type": "stream",
     "text": [
      "CPU times: user 1 s, sys: 28 ms, total: 1.03 s\n",
      "Wall time: 1.03 s\n"
     ]
    }
   ],
   "source": [
    "%time hist, bin_edges = np.histogram([t.input_value/1e8 for t in example_tx],50,(0,100))\n"
   ]
  },
  {
   "cell_type": "code",
   "execution_count": 34,
   "metadata": {},
   "outputs": [
    {
     "data": {
      "text/plain": [
       "array([611690, 104795,  60518,  38407,  32575,  25462,  22284,  18732,\n",
       "        16094,  15575,  15356,  14443,  28861,   8699,   8544,   8639,\n",
       "         7346,   7351,   6961,   6691,   6890,   6376,   6319,   6340,\n",
       "         6508,  16463,   3481,   3463,   3323,   3302,   3261,   2907,\n",
       "         3011,   2714,   2705,   2793,   2499,   2716,   2302,   2302,\n",
       "         2293,   2169,   2063,   1923,   1984,   1989,   1769,   1788,\n",
       "         1821,   5134])"
      ]
     },
     "execution_count": 34,
     "metadata": {},
     "output_type": "execute_result"
    }
   ],
   "source": [
    "hist"
   ]
  },
  {
   "cell_type": "code",
   "execution_count": 35,
   "metadata": {},
   "outputs": [
    {
     "data": {
      "text/plain": [
       "Text(0.5,1,'Counts of transactions with 20 inputs, 1 output')"
      ]
     },
     "execution_count": 35,
     "metadata": {},
     "output_type": "execute_result"
    },
    {
     "data": {
      "image/png": "[encoded data removed]",
      "text/plain": [
       "<Figure size 432x288 with 1 Axes>"
      ]
     },
     "metadata": {},
     "output_type": "display_data"
    }
   ],
   "source": [
    "plt.bar(bin_edges[1:],hist,(bin_edges[1]-bin_edges[0]))\n",
    "plt.xlabel('Value of transaction (BTC)')\n",
    "plt.ylabel('Number of transactions')\n",
    "plt.title('Counts of transactions with 20 outputs, 1 input')"
   ]
  },
  {
   "cell_type": "markdown",
   "metadata": {},
   "source": [
    "__Addresses involved in transactions two blocks in a row__\n",
    "\n",
    "Time between transactions on an address is an example feature that might give information on how the address is being used\n",
    "The code below looks through all blocks and counts the number of addresses that appeared in two adjacent blocks\n",
    "In mid 2015, there was an attach on the bitcoin network (see https://en.bitcoin.it/wiki/July_2015_flood_attack ), possibly this is the spike"
   ]
  },
  {
   "cell_type": "code",
   "execution_count": 8,
   "metadata": {},
   "outputs": [],
   "source": [
    "cstart = 1\n",
    "cend = 510000\n",
    "doubles = [len(set(n.outputs.address).intersection(n_1.outputs.address)) for n,n_1 in zip(chain[cstart:cend],chain[(cstart-1):(cend-1)])]"
   ]
  },
  {
   "cell_type": "code",
   "execution_count": 12,
   "metadata": {},
   "outputs": [
    {
     "data": {
      "text/plain": [
       "Text(0.5,1,'Addresses in consecutive transactions')"
      ]
     },
     "execution_count": 12,
     "metadata": {},
     "output_type": "execute_result"
    },
    {
     "data": {
      "image/png": "[encoded data removed]",
      "text/plain": [
       "<Figure size 432x288 with 1 Axes>"
      ]
     },
     "metadata": {},
     "output_type": "display_data"
    }
   ],
   "source": [
    "df2 = pd.DataFrame(doubles).fillna(0)\n",
    "df2 = chain.heights_to_dates(df2)\n",
    "#df = df.rename(columns={t:str(t) for t in df.columns})\n",
    "ax = df2.resample(\"W\").mean().plot()\n",
    "ax.set_ylim(ymin=0)\n",
    "plt.xlabel('Date')\n",
    "plt.ylabel('Occurrences')\n",
    "plt.title('Addresses in consecutive transactions')"
   ]
  },
  {
   "cell_type": "code",
   "execution_count": null,
   "metadata": {},
   "outputs": [],
   "source": []
  },
  {
   "cell_type": "code",
   "execution_count": null,
   "metadata": {},
   "outputs": [],
   "source": []
  }
 ],
 "metadata": {
  "kernelspec": {
   "display_name": "Python 3",
   "language": "python",
   "name": "python3"
  },
  "language_info": {
   "codemirror_mode": {
    "name": "ipython",
    "version": 3
   },
   "file_extension": ".py",
   "mimetype": "text/x-python",
   "name": "python",
   "nbconvert_exporter": "python",
   "pygments_lexer": "ipython3",
   "version": "3.5.2"
  }
 },
 "nbformat": 4,
 "nbformat_minor": 2
}
